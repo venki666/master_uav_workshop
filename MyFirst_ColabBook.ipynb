{
  "nbformat": 4,
  "nbformat_minor": 0,
  "metadata": {
    "colab": {
      "provenance": [],
      "authorship_tag": "ABX9TyPIagO3v1CH+d7VLRhAdjeH",
      "include_colab_link": true
    },
    "kernelspec": {
      "name": "python3",
      "display_name": "Python 3"
    },
    "language_info": {
      "name": "python"
    }
  },
  "cells": [
    {
      "cell_type": "markdown",
      "metadata": {
        "id": "view-in-github",
        "colab_type": "text"
      },
      "source": [
        "<a href=\"https://colab.research.google.com/github/venki666/master_uav_workshop/blob/main/MyFirst_ColabBook.ipynb\" target=\"_parent\"><img src=\"https://colab.research.google.com/assets/colab-badge.svg\" alt=\"Open In Colab\"/></a>"
      ]
    },
    {
      "cell_type": "markdown",
      "source": [
        "## My First Colab Notebook\n",
        "\n",
        "Below is a sample program"
      ],
      "metadata": {
        "id": "9Qwo81KU4Ss8"
      }
    },
    {
      "cell_type": "code",
      "execution_count": null,
      "metadata": {
        "colab": {
          "base_uri": "https://localhost:8080/"
        },
        "id": "0XduFuyc4ReO",
        "outputId": "90172506-73a1-4ce7-f6a1-4cf8188a72b4"
      },
      "outputs": [
        {
          "output_type": "stream",
          "name": "stdout",
          "text": [
            "Hello CNuians & Hanbatian\n"
          ]
        }
      ],
      "source": [
        "print(\"Hello CNuians & Hanbatian\")"
      ]
    },
    {
      "cell_type": "markdown",
      "source": [
        "This is how a coomand looks like in colab"
      ],
      "metadata": {
        "id": "OfYtEwk95Evp"
      }
    },
    {
      "cell_type": "code",
      "source": [
        "! pip install numpy"
      ],
      "metadata": {
        "colab": {
          "base_uri": "https://localhost:8080/"
        },
        "id": "0CKNNHve5SF1",
        "outputId": "c28805ec-65a1-4186-fa06-98ea4e7e34b6"
      },
      "execution_count": null,
      "outputs": [
        {
          "output_type": "stream",
          "name": "stdout",
          "text": [
            "Looking in indexes: https://pypi.org/simple, https://us-python.pkg.dev/colab-wheels/public/simple/\n",
            "Requirement already satisfied: numpy in /usr/local/lib/python3.8/dist-packages (1.21.6)\n"
          ]
        }
      ]
    },
    {
      "cell_type": "markdown",
      "source": [
        "This is my second ..."
      ],
      "metadata": {
        "id": "x1xfJLj97-Ep"
      }
    }
  ]
}